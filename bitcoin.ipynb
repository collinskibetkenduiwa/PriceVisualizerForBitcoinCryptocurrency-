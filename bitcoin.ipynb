{
 "cells": [
  {
   "cell_type": "code",
   "execution_count": 1,
   "id": "e4b1617c",
   "metadata": {},
   "outputs": [
    {
     "ename": "ModuleNotFoundError",
     "evalue": "No module named 'quandl'",
     "output_type": "error",
     "traceback": [
      "\u001b[1;31m---------------------------------------------------------------------------\u001b[0m",
      "\u001b[1;31mModuleNotFoundError\u001b[0m                       Traceback (most recent call last)",
      "\u001b[1;32m<ipython-input-1-6d1f24e6383b>\u001b[0m in \u001b[0;36m<module>\u001b[1;34m\u001b[0m\n\u001b[0;32m      3\u001b[0m \u001b[1;32mimport\u001b[0m \u001b[0mpandas\u001b[0m \u001b[1;32mas\u001b[0m \u001b[0mpd\u001b[0m\u001b[1;33m\u001b[0m\u001b[1;33m\u001b[0m\u001b[0m\n\u001b[0;32m      4\u001b[0m \u001b[1;32mimport\u001b[0m \u001b[0mpickle\u001b[0m\u001b[1;33m\u001b[0m\u001b[1;33m\u001b[0m\u001b[0m\n\u001b[1;32m----> 5\u001b[1;33m \u001b[1;32mimport\u001b[0m \u001b[0mquandl\u001b[0m\u001b[1;33m\u001b[0m\u001b[1;33m\u001b[0m\u001b[0m\n\u001b[0m\u001b[0;32m      6\u001b[0m \u001b[1;33m\u001b[0m\u001b[0m\n\u001b[0;32m      7\u001b[0m \u001b[1;32mimport\u001b[0m \u001b[0mplotly\u001b[0m\u001b[1;33m.\u001b[0m\u001b[0moffline\u001b[0m \u001b[1;32mas\u001b[0m \u001b[0mpy\u001b[0m\u001b[1;33m\u001b[0m\u001b[1;33m\u001b[0m\u001b[0m\n",
      "\u001b[1;31mModuleNotFoundError\u001b[0m: No module named 'quandl'"
     ]
    }
   ],
   "source": [
    "import os\n",
    "import numpy as np\n",
    "import pandas as pd\n",
    "import pickle \n",
    "import quandl\n",
    "\n",
    "import plotly.offline as py\n",
    "import plotly.graph_objs as go\n",
    "py.init_notebook_mode(connected=True)\n"
   ]
  },
  {
   "cell_type": "code",
   "execution_count": null,
   "id": "621d4373",
   "metadata": {},
   "outputs": [],
   "source": [
    "quandl.ApiConfig.api_key = 'zZzhwTNJ1Z8SxApaAd8K'"
   ]
  },
  {
   "cell_type": "code",
   "execution_count": null,
   "id": "6cd161bd",
   "metadata": {},
   "outputs": [],
   "source": [
    "def get_quandl_data(quandl_code):\n",
    "    cache_path = '{}.pkl'.format(quandl_code).replace('/', '-')\n",
    "    try:\n",
    "        f = open(cache_path, 'rb')\n",
    "        df = pickle.load(f)\n",
    "        print('Loaded {} from cache'.format(quandl_code))\n",
    "    except (OSError, IOError) as e:\n",
    "        df = quandl.get(quandl_code, returns=\"pandas\")\n",
    "        df.to_pickle(cache_path)\n",
    "        print('Cached {} at {}'.format(quandl_code, cache_path))\n",
    "    return df"
   ]
  },
  {
   "cell_type": "code",
   "execution_count": null,
   "id": "8ab0ecfb",
   "metadata": {},
   "outputs": [],
   "source": [
    "btc_usd_kraken = get_quandl_data('BCHARTS/KRAKENUSD')"
   ]
  },
  {
   "cell_type": "code",
   "execution_count": null,
   "id": "99d9789b",
   "metadata": {},
   "outputs": [],
   "source": [
    "btc_usd_kraken.head()"
   ]
  },
  {
   "cell_type": "code",
   "execution_count": null,
   "id": "565778e3",
   "metadata": {},
   "outputs": [],
   "source": [
    "btc_trace = go.Scatter(x=btc_usd_kraken.index, y=btc_usd_kraken['Weighted Price'])\n",
    "py.iplot([btc_trace])"
   ]
  },
  {
   "cell_type": "code",
   "execution_count": null,
   "id": "7fdff1d5",
   "metadata": {},
   "outputs": [],
   "source": [
    "exchanges = ['COINBASE', 'BITSTAMP', 'ITBIT']\n",
    "\n",
    "exchange_data = {}\n",
    "exchange_data['KRAKEN'] = btc_usd_kraken\n",
    "\n",
    "for exchange in exchanges:\n",
    "    exchange_code = 'BCHARTS/{}USD'.format(exchange)\n",
    "    btc_exchange_df = get_quandl_data(exchange_code)\n",
    "    exchange_data[exchange] = btc_exchange_df"
   ]
  },
  {
   "cell_type": "code",
   "execution_count": null,
   "id": "9f5780f3",
   "metadata": {},
   "outputs": [],
   "source": [
    "def merge_dfs(dataframes, labels, col):\n",
    "    series_dict = {}\n",
    "    \n",
    "    for index in range(len(dataframes)):\n",
    "        series_dict[labels[index]] = dataframes[index][col]\n",
    "    return pd.DataFrame(series_dict)"
   ]
  },
  {
   "cell_type": "code",
   "execution_count": null,
   "id": "fb36d248",
   "metadata": {},
   "outputs": [],
   "source": [
    "btc_usd_df = merge_dfs(list(exchange_data.values()), list(exchange_data.keys()), 'Weighted Price')"
   ]
  },
  {
   "cell_type": "code",
   "execution_count": null,
   "id": "aed1a8a6",
   "metadata": {},
   "outputs": [],
   "source": [
    "btc_usd_df.tail()"
   ]
  },
  {
   "cell_type": "code",
   "execution_count": null,
   "id": "f6c016dc",
   "metadata": {},
   "outputs": [],
   "source": [
    "layout = go.Layout(\n",
    "    title = 'Bitcoin Price By Exchange (USD)',\n",
    "    legend = {'orientation': 'h'},\n",
    "    xaxis = {'type': 'date'},\n",
    "    yaxis = {'title': 'Price in USD'}\n",
    ")\n",
    "\n",
    "trace_arr = []\n",
    "labels = list(btc_usd_df)\n",
    "for index, label in enumerate(labels):\n",
    "    series = btc_usd_df[label]\n",
    "    trace = go.Scatter(x=series.index, y=series, name=label)\n",
    "    trace_arr.append(trace)\n",
    "    \n",
    "fig = go.Figure(data=trace_arr, layout=layout)\n",
    "py.iplot(fig)"
   ]
  },
  {
   "cell_type": "code",
   "execution_count": null,
   "id": "78bb1b20",
   "metadata": {},
   "outputs": [],
   "source": [
    "btc_usd_df['avg_usd_price'] = btc_usd_df.mean(axis=1)\n",
    "btc_trace = go.Scatter(x=btc_usd_df.index, y=btc_usd_df['avg_usd_price'])\n",
    "py.iplot([btc_trace])"
   ]
  }
 ],
 "metadata": {
  "kernelspec": {
   "display_name": "Python 3",
   "language": "python",
   "name": "python3"
  },
  "language_info": {
   "codemirror_mode": {
    "name": "ipython",
    "version": 3
   },
   "file_extension": ".py",
   "mimetype": "text/x-python",
   "name": "python",
   "nbconvert_exporter": "python",
   "pygments_lexer": "ipython3",
   "version": "3.9.1"
  }
 },
 "nbformat": 4,
 "nbformat_minor": 5
}
